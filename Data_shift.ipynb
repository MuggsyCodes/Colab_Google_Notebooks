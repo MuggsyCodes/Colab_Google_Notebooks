{
  "nbformat": 4,
  "nbformat_minor": 0,
  "metadata": {
    "kernelspec": {
      "display_name": "Python 3",
      "language": "python",
      "name": "python3"
    },
    "language_info": {
      "codemirror_mode": {
        "name": "ipython",
        "version": 3
      },
      "file_extension": ".py",
      "mimetype": "text/x-python",
      "name": "python",
      "nbconvert_exporter": "python",
      "pygments_lexer": "ipython3",
      "version": "3.8.5"
    },
    "colab": {
      "name": "Data_shift.ipynb",
      "provenance": [],
      "include_colab_link": true
    }
  },
  "cells": [
    {
      "cell_type": "markdown",
      "metadata": {
        "id": "view-in-github",
        "colab_type": "text"
      },
      "source": [
        "<a href=\"https://colab.research.google.com/github/MuggsyCodes/Colab_Google_Notebooks/blob/main/Data_shift.ipynb\" target=\"_parent\"><img src=\"https://colab.research.google.com/assets/colab-badge.svg\" alt=\"Open In Colab\"/></a>"
      ]
    },
    {
      "cell_type": "code",
      "metadata": {
        "colab": {
          "base_uri": "https://localhost:8080/",
          "height": 419
        },
        "id": "U3GHjUSDE16h",
        "outputId": "33935b2c-1845-4fb4-812e-97aba033d195"
      },
      "source": [
        "#********************** Data Shift Script ***********************#\n",
        "# Program to TIME shift data imported from mp Analyzer program\n",
        "#\n",
        "\n",
        "\n",
        "import pandas as pd\n",
        "# import txt file into data frame\n",
        "\n",
        "file_p = r\"vehicle_OASPL_test_data.txt\"\n",
        "\n",
        "# making data frame from TAB SEPARATED txt/csv file\n",
        "data = pd.read_csv(file_p, sep='\\t', index_col=None)\n",
        "data"
      ],
      "execution_count": 1,
      "outputs": [
        {
          "output_type": "execute_result",
          "data": {
            "text/html": [
              "<div>\n",
              "<style scoped>\n",
              "    .dataframe tbody tr th:only-of-type {\n",
              "        vertical-align: middle;\n",
              "    }\n",
              "\n",
              "    .dataframe tbody tr th {\n",
              "        vertical-align: top;\n",
              "    }\n",
              "\n",
              "    .dataframe thead th {\n",
              "        text-align: right;\n",
              "    }\n",
              "</style>\n",
              "<table border=\"1\" class=\"dataframe\">\n",
              "  <thead>\n",
              "    <tr style=\"text-align: right;\">\n",
              "      <th></th>\n",
              "      <th>X [s]</th>\n",
              "      <th>Real [Pa]</th>\n",
              "      <th>Real [g]</th>\n",
              "      <th>Real [g].1</th>\n",
              "      <th>Real [g].2</th>\n",
              "    </tr>\n",
              "  </thead>\n",
              "  <tbody>\n",
              "    <tr>\n",
              "      <th>0</th>\n",
              "      <td>0.00</td>\n",
              "      <td>0.00343</td>\n",
              "      <td>0.00539</td>\n",
              "      <td>0.00708</td>\n",
              "      <td>0.00590</td>\n",
              "    </tr>\n",
              "    <tr>\n",
              "      <th>1</th>\n",
              "      <td>0.32</td>\n",
              "      <td>0.01580</td>\n",
              "      <td>0.00877</td>\n",
              "      <td>0.02130</td>\n",
              "      <td>0.01370</td>\n",
              "    </tr>\n",
              "    <tr>\n",
              "      <th>2</th>\n",
              "      <td>0.64</td>\n",
              "      <td>0.00471</td>\n",
              "      <td>0.00537</td>\n",
              "      <td>0.00780</td>\n",
              "      <td>0.00630</td>\n",
              "    </tr>\n",
              "    <tr>\n",
              "      <th>3</th>\n",
              "      <td>0.96</td>\n",
              "      <td>0.00407</td>\n",
              "      <td>0.00544</td>\n",
              "      <td>0.00775</td>\n",
              "      <td>0.00657</td>\n",
              "    </tr>\n",
              "    <tr>\n",
              "      <th>4</th>\n",
              "      <td>1.28</td>\n",
              "      <td>0.03290</td>\n",
              "      <td>0.01790</td>\n",
              "      <td>0.04240</td>\n",
              "      <td>0.02540</td>\n",
              "    </tr>\n",
              "    <tr>\n",
              "      <th>...</th>\n",
              "      <td>...</td>\n",
              "      <td>...</td>\n",
              "      <td>...</td>\n",
              "      <td>...</td>\n",
              "      <td>...</td>\n",
              "    </tr>\n",
              "    <tr>\n",
              "      <th>778</th>\n",
              "      <td>249.00</td>\n",
              "      <td>0.05090</td>\n",
              "      <td>0.05310</td>\n",
              "      <td>0.09120</td>\n",
              "      <td>0.06710</td>\n",
              "    </tr>\n",
              "    <tr>\n",
              "      <th>779</th>\n",
              "      <td>249.00</td>\n",
              "      <td>0.04170</td>\n",
              "      <td>0.03610</td>\n",
              "      <td>0.07380</td>\n",
              "      <td>0.06170</td>\n",
              "    </tr>\n",
              "    <tr>\n",
              "      <th>780</th>\n",
              "      <td>250.00</td>\n",
              "      <td>0.03360</td>\n",
              "      <td>0.04940</td>\n",
              "      <td>0.07610</td>\n",
              "      <td>0.04560</td>\n",
              "    </tr>\n",
              "    <tr>\n",
              "      <th>781</th>\n",
              "      <td>250.00</td>\n",
              "      <td>0.03040</td>\n",
              "      <td>0.03120</td>\n",
              "      <td>0.05890</td>\n",
              "      <td>0.04200</td>\n",
              "    </tr>\n",
              "    <tr>\n",
              "      <th>782</th>\n",
              "      <td>250.00</td>\n",
              "      <td>0.03340</td>\n",
              "      <td>0.02770</td>\n",
              "      <td>0.06100</td>\n",
              "      <td>0.04560</td>\n",
              "    </tr>\n",
              "  </tbody>\n",
              "</table>\n",
              "<p>783 rows × 5 columns</p>\n",
              "</div>"
            ],
            "text/plain": [
              "      X [s]  Real [Pa]  Real [g]  Real [g].1  Real [g].2\n",
              "0      0.00    0.00343   0.00539     0.00708     0.00590\n",
              "1      0.32    0.01580   0.00877     0.02130     0.01370\n",
              "2      0.64    0.00471   0.00537     0.00780     0.00630\n",
              "3      0.96    0.00407   0.00544     0.00775     0.00657\n",
              "4      1.28    0.03290   0.01790     0.04240     0.02540\n",
              "..      ...        ...       ...         ...         ...\n",
              "778  249.00    0.05090   0.05310     0.09120     0.06710\n",
              "779  249.00    0.04170   0.03610     0.07380     0.06170\n",
              "780  250.00    0.03360   0.04940     0.07610     0.04560\n",
              "781  250.00    0.03040   0.03120     0.05890     0.04200\n",
              "782  250.00    0.03340   0.02770     0.06100     0.04560\n",
              "\n",
              "[783 rows x 5 columns]"
            ]
          },
          "metadata": {},
          "execution_count": 1
        }
      ]
    },
    {
      "cell_type": "code",
      "metadata": {
        "colab": {
          "base_uri": "https://localhost:8080/",
          "height": 312
        },
        "id": "Kb5cMZ08E16o",
        "outputId": "37af1cb2-8c3b-4355-ab86-8a10898ffae3"
      },
      "source": [
        "#matplotlib to plot original data\n",
        "\n",
        "import matplotlib.pyplot as plt\n",
        "\n",
        "df = data\n",
        "\n",
        "# plot original data as a line graph\n",
        "print(\"Original Data: \")\n",
        "\n",
        "# supply a list of column names as the y variable\n",
        "df.plot(x=\"X [s]\", y=[\"Real [Pa]\", \"Real [g]\", \"Real [g].1\"], kind=\"line\", title=\"Original Data\")\n",
        "\n",
        "plt.show()"
      ],
      "execution_count": 2,
      "outputs": [
        {
          "output_type": "stream",
          "name": "stdout",
          "text": [
            "Original Data: \n"
          ]
        },
        {
          "output_type": "display_data",
          "data": {
            "image/png": "[encoded data removed]",
            "text/plain": [
              "<Figure size 432x288 with 1 Axes>"
            ]
          },
          "metadata": {
            "needs_background": "light"
          }
        }
      ]
    },
    {
      "cell_type": "code",
      "metadata": {
        "colab": {
          "base_uri": "https://localhost:8080/"
        },
        "id": "y5uv87iyE16p",
        "outputId": "983cb7df-cb2f-4a3d-cf4c-f6fe16dc789f"
      },
      "source": [
        "# calculate time between data points using integer location\n",
        "a = data['X [s]'][0] #index by column and row\n",
        "print(f\"first slice:\\n{a}\")\n",
        "b = data['X [s]'][1]\n",
        "print(f\"first slice:\\n{b}\")\n",
        "delta = b-a\n",
        "print(f\"delta {delta}\")\n",
        "\n",
        "# calculate sampling frequency\n",
        "sample_frequency = 1/delta\n",
        "print(f\"sampling frequency: {sample_frequency}\")\n",
        "\n",
        "# Calculate number shift points based on seconds \n",
        "# 1 sec = 3.125 shift points\n",
        "# number shift points = shift seconds * 3.125\n",
        "\n",
        "#!!! User input #!!!\n",
        "user_input_seconds = int(input(\"How many seconds do you want to shift the data by?\"))\n",
        "# calculate shift points - use floor round\n",
        "shift_points = round(user_input_seconds*3.125)\n",
        "print(f\"Shift points: {shift_points}\")"
      ],
      "execution_count": 8,
      "outputs": [
        {
          "output_type": "stream",
          "name": "stdout",
          "text": [
            "first slice:\n",
            "0.0\n",
            "first slice:\n",
            "0.32\n",
            "delta 0.32\n",
            "sampling frequency: 3.125\n",
            "How many seconds do you want to shift the data by?12\n",
            "Shift points: 38\n"
          ]
        }
      ]
    },
    {
      "cell_type": "code",
      "metadata": {
        "colab": {
          "base_uri": "https://localhost:8080/"
        },
        "id": "Q9gnJcCUE16p",
        "outputId": "17effd14-556d-4dc3-b7c7-afb0a44661f2"
      },
      "source": [
        "# Now, to shift the data frame that has a phase lag\n",
        "# i.e., the data of interest starts later than the 0 reference I want to match it to\n",
        "# phase lag correction requires: \n",
        "#slicing = data[0:shift_points] #row index: col index\n",
        "\n",
        "#no_time_slice = data.iloc[0:shift_points, 1:] #row index: col index using iloc\n",
        "\n",
        "# 1. start with selecting all columns MINUS the TIME column\n",
        "no_time_slice = data.iloc[0:, 1:] #row index: col index using iloc\n",
        "\n",
        "\n",
        "#create new series from X [s] time axis\n",
        "time_frame = data.iloc[0:,0]\n",
        "\n",
        "#print(slicing)\n",
        "# 2. Take slice, EXCLUDING TIME column, delete it and move the values after the slice UP to the 0 position \n",
        "\n",
        "print(f\"Time axis:\\n{time_frame}\")\n",
        "print(type(time_frame))\n",
        "\n",
        "\n",
        "print(no_time_slice)\n",
        "print(type(no_time_slice))\n",
        "\n"
      ],
      "execution_count": 9,
      "outputs": [
        {
          "output_type": "stream",
          "name": "stdout",
          "text": [
            "Time axis:\n",
            "0        0.00\n",
            "1        0.32\n",
            "2        0.64\n",
            "3        0.96\n",
            "4        1.28\n",
            "        ...  \n",
            "778    249.00\n",
            "779    249.00\n",
            "780    250.00\n",
            "781    250.00\n",
            "782    250.00\n",
            "Name: X [s], Length: 783, dtype: float64\n",
            "<class 'pandas.core.series.Series'>\n",
            "     Real [Pa]  Real [g]  Real [g].1  Real [g].2\n",
            "0      0.00343   0.00539     0.00708     0.00590\n",
            "1      0.01580   0.00877     0.02130     0.01370\n",
            "2      0.00471   0.00537     0.00780     0.00630\n",
            "3      0.00407   0.00544     0.00775     0.00657\n",
            "4      0.03290   0.01790     0.04240     0.02540\n",
            "..         ...       ...         ...         ...\n",
            "778    0.05090   0.05310     0.09120     0.06710\n",
            "779    0.04170   0.03610     0.07380     0.06170\n",
            "780    0.03360   0.04940     0.07610     0.04560\n",
            "781    0.03040   0.03120     0.05890     0.04200\n",
            "782    0.03340   0.02770     0.06100     0.04560\n",
            "\n",
            "[783 rows x 4 columns]\n",
            "<class 'pandas.core.frame.DataFrame'>\n"
          ]
        }
      ]
    },
    {
      "cell_type": "code",
      "metadata": {
        "colab": {
          "base_uri": "https://localhost:8080/"
        },
        "id": "hUlXlsdrE16q",
        "outputId": "c57af398-6be0-45a9-da5c-0b49dda7ee07"
      },
      "source": [
        "import pandas as pd\n",
        "\n",
        "time_shift_df = time_frame.to_frame()\n",
        "print(time_shift_df)\n",
        "print(type(time_shift_df))\n",
        "\n",
        "# shift all the columns of the LAGGING signal UP by the amount: time shift \n",
        "# set axis = 0 \n",
        "new_df = no_time_slice.shift(-shift_points, axis = 0)\n",
        "print(f\"Shifted data:\\n{new_df}\")\n"
      ],
      "execution_count": 10,
      "outputs": [
        {
          "output_type": "stream",
          "name": "stdout",
          "text": [
            "      X [s]\n",
            "0      0.00\n",
            "1      0.32\n",
            "2      0.64\n",
            "3      0.96\n",
            "4      1.28\n",
            "..      ...\n",
            "778  249.00\n",
            "779  249.00\n",
            "780  250.00\n",
            "781  250.00\n",
            "782  250.00\n",
            "\n",
            "[783 rows x 1 columns]\n",
            "<class 'pandas.core.frame.DataFrame'>\n",
            "Shifted data:\n",
            "     Real [Pa]  Real [g]  Real [g].1  Real [g].2\n",
            "0       0.0119    0.0156      0.0257      0.0143\n",
            "1       0.0115    0.0175      0.0275      0.0171\n",
            "2       0.0121    0.0162      0.0255      0.0157\n",
            "3       0.0180    0.0327      0.0837      0.0922\n",
            "4       0.0148    0.0316      0.0367      0.0499\n",
            "..         ...       ...         ...         ...\n",
            "778        NaN       NaN         NaN         NaN\n",
            "779        NaN       NaN         NaN         NaN\n",
            "780        NaN       NaN         NaN         NaN\n",
            "781        NaN       NaN         NaN         NaN\n",
            "782        NaN       NaN         NaN         NaN\n",
            "\n",
            "[783 rows x 4 columns]\n"
          ]
        }
      ]
    },
    {
      "cell_type": "code",
      "metadata": {
        "colab": {
          "base_uri": "https://localhost:8080/"
        },
        "id": "5VmkHisiE16r",
        "outputId": "68e2e769-dbab-4780-bc36-4fb0b77fc7ec"
      },
      "source": [
        "# append the shifted data frame as a new column to the time axis data frame\n",
        "shifted_df = time_shift_df.join(new_df)\n",
        "print(shifted_df)"
      ],
      "execution_count": 11,
      "outputs": [
        {
          "output_type": "stream",
          "name": "stdout",
          "text": [
            "      X [s]  Real [Pa]  Real [g]  Real [g].1  Real [g].2\n",
            "0      0.00     0.0119    0.0156      0.0257      0.0143\n",
            "1      0.32     0.0115    0.0175      0.0275      0.0171\n",
            "2      0.64     0.0121    0.0162      0.0255      0.0157\n",
            "3      0.96     0.0180    0.0327      0.0837      0.0922\n",
            "4      1.28     0.0148    0.0316      0.0367      0.0499\n",
            "..      ...        ...       ...         ...         ...\n",
            "778  249.00        NaN       NaN         NaN         NaN\n",
            "779  249.00        NaN       NaN         NaN         NaN\n",
            "780  250.00        NaN       NaN         NaN         NaN\n",
            "781  250.00        NaN       NaN         NaN         NaN\n",
            "782  250.00        NaN       NaN         NaN         NaN\n",
            "\n",
            "[783 rows x 5 columns]\n"
          ]
        }
      ]
    },
    {
      "cell_type": "code",
      "metadata": {
        "colab": {
          "base_uri": "https://localhost:8080/",
          "height": 312
        },
        "id": "CThrzg2LE16s",
        "outputId": "5474f09d-b50b-43b9-e4e9-52805b61f92b"
      },
      "source": [
        "print(\"SHIFTED Data - NaN values at end are NOT plotted: \")\n",
        "\n",
        "# supply a list of column names as the y variable\n",
        "shifted_df.plot(x=\"X [s]\", y=[\"Real [Pa]\", \"Real [g]\", \"Real [g].1\"], kind=\"line\", title=\"Time Shifted Data\")\n",
        "\n",
        "plt.show()"
      ],
      "execution_count": 12,
      "outputs": [
        {
          "output_type": "stream",
          "name": "stdout",
          "text": [
            "SHIFTED Data - NaN values at end are NOT plotted: \n"
          ]
        },
        {
          "output_type": "display_data",
          "data": {
            "image/png": "[encoded data removed]",
            "text/plain": [
              "<Figure size 432x288 with 1 Axes>"
            ]
          },
          "metadata": {
            "needs_background": "light"
          }
        }
      ]
    }
  ]
}